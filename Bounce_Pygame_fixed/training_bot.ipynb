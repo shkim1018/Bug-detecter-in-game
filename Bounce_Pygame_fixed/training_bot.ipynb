{
 "cells": [
  {
   "cell_type": "code",
   "execution_count": 1,
   "metadata": {},
   "outputs": [],
   "source": [
    "import gymnasium as gym\n",
    "from gymnasium import spaces\n",
    "import pygame as pg\n",
    "import numpy as np\n",
    "from main import Game\n",
    "from stable_baselines3 import DQN\n",
    "from stable_baselines3.common.env_checker import check_env\n",
    "from datetime import datetime\n",
    "import os\n",
    "\n",
    "class MyGameEnv(gym.Env):\n",
    "    def __init__(self, render_mode=True, log_mode=False, bug_mode=False, control_mode=\"bot\", train_mode=False):\n",
    "        super().__init__()\n",
    "        self.render_mode = render_mode\n",
    "        self.log_mode = log_mode\n",
    "        self.bug_mode = bug_mode\n",
    "        self.control_mode = control_mode\n",
    "        self.train_mode = train_mode\n",
    "        self.model = None\n",
    "        self.game = None\n",
    "        self.action_space = spaces.Discrete(6)\n",
    "        self.observation_space = spaces.Box(\n",
    "            low=np.array([0.0, 0.0, -1.0, -1.0, 0.0], dtype=np.float32),\n",
    "            high=np.array([1.0, 1.0, 1.0, 1.0, 1.0], dtype=np.float32),\n",
    "            dtype=np.float32\n",
    "        )\n",
    "    def game_setting(self):\n",
    "        self.game = Game(model= self.model, render_mode = self.render_mode, log_mode=self.log_mode, bug_mode=self.bug_mode, control_mode=self.control_mode, train_mode=self.train_mode)\n",
    "\n",
    "    def reset(self, seed=None, options=None):\n",
    "        obs = self.game.reset()\n",
    "        return np.array(obs, dtype=np.float32), {}\n",
    "\n",
    "    def step(self, action):\n",
    "        obs, reward, done, info = self.game.step(action)\n",
    "\n",
    "        if done: # step마다 reward 기록용\n",
    "            print(f\"[EP DONE] obs: {obs}, reward: {reward}\")\n",
    "        return np.array(obs, dtype=np.float32), reward, done, False, info\n",
    "\n",
    "    def render(self):\n",
    "        if self.render_mode:\n",
    "            self.game.draw()\n",
    "\n",
    "    def close(self):\n",
    "        self.game.quitgame()\n",
    "\n",
    "    def train(self):\n",
    "        self.render_mode = False\n",
    "        self.log_mode = False\n",
    "        self.bug_mode = False\n",
    "        self.control_mode = \"bot\"\n",
    "        self.train_mode = True\n",
    "        self.game_setting()\n",
    "\n",
    "        # check_env(env, warn=True)  # 환경이 gym 스타일로 잘 되어 있는지 체크\n",
    "        timestamp = datetime.now().strftime(\"%Y%m%d_%H%M%S\")\n",
    "        model_name = f\"dqn_model_{timestamp}\"\n",
    "        model_name = os.path.join(\"./bot\", model_name)\n",
    "\n",
    "        model = DQN(\"MlpPolicy\", self, verbose=1, tensorboard_log=\"./dqn_logs\")\n",
    "        model.learn(total_timesteps=50000, tb_log_name=\"run_1\")\n",
    "        os.makedirs(\"./bot\", exist_ok=True)\n",
    "\n",
    "        model.save(model_name)\n",
    "        self.model = model\n",
    "        # self.close()\n",
    "\n",
    "    def check_env(self):\n",
    "        check_env(self)\n",
    "        # self.close()\n",
    "    def load_model(self, model_name):\n",
    "        self.model = DQN.load(os.path.join(\"./bot\", model_name))\n",
    "        \n",
    "    def play_game_with_bot(self):\n",
    "        assert self.control_mode == \"bot\"\n",
    "        assert self.model is not None\n",
    "        assert self.train_mode == False\n",
    "        self.game_setting()\n",
    "        self.game.show_start_screen()\n",
    "        while self.game.running:\n",
    "            self.game.new()\n",
    "            self.game.show_go_screen()\n",
    "        self.game.quitgame()\n"
   ]
  },
  {
   "cell_type": "code",
   "execution_count": 3,
   "metadata": {},
   "outputs": [],
   "source": [
    "env.close()"
   ]
  },
  {
   "cell_type": "code",
   "execution_count": null,
   "metadata": {},
   "outputs": [],
   "source": [
    "#env 설정 제대로 되었는지 확인.\n",
    "env = MyGameEnv()\n",
    "check_env(env)\n",
    "env.close()"
   ]
  },
  {
   "cell_type": "code",
   "execution_count": null,
   "metadata": {},
   "outputs": [],
   "source": [
    "#모델 훈련\n",
    "env = MyGameEnv()\n",
    "env.train()\n",
    "env.close()"
   ]
  },
  {
   "cell_type": "markdown",
   "metadata": {},
   "source": [
    "공이 안움직이는 것 같다... 문제를 해결해보자. 05/22/12:06. //\n",
    "step이 길어질수록 reward를 작게 하자. 벽에 걸려서 아예 움직이지 못하는 이슈가 있네요.\n",
    "\n",
    "05/25/16:41 봇은 대충 만들었어요. show_go_screen 화면이 나오지 않는 현상을 해결해야 합니다."
   ]
  },
  {
   "cell_type": "code",
   "execution_count": 2,
   "metadata": {},
   "outputs": [
    {
     "ename": "error",
     "evalue": "display Surface quit",
     "output_type": "error",
     "traceback": [
      "\u001b[0;31m---------------------------------------------------------------------------\u001b[0m",
      "\u001b[0;31merror\u001b[0m                                     Traceback (most recent call last)",
      "Cell \u001b[0;32mIn[2], line 4\u001b[0m\n\u001b[1;32m      2\u001b[0m env \u001b[38;5;241m=\u001b[39m MyGameEnv(render_mode\u001b[38;5;241m=\u001b[39m\u001b[38;5;28;01mTrue\u001b[39;00m, log_mode\u001b[38;5;241m=\u001b[39m\u001b[38;5;28;01mTrue\u001b[39;00m, bug_mode\u001b[38;5;241m=\u001b[39m\u001b[38;5;28;01mTrue\u001b[39;00m, control_mode\u001b[38;5;241m=\u001b[39m\u001b[38;5;124m\"\u001b[39m\u001b[38;5;124mbot\u001b[39m\u001b[38;5;124m\"\u001b[39m, train_mode\u001b[38;5;241m=\u001b[39m\u001b[38;5;28;01mFalse\u001b[39;00m)\n\u001b[1;32m      3\u001b[0m env\u001b[38;5;241m.\u001b[39mload_model(model_name \u001b[38;5;241m=\u001b[39m \u001b[38;5;124m\"\u001b[39m\u001b[38;5;124mdqn_model_20250525_140415.zip\u001b[39m\u001b[38;5;124m\"\u001b[39m)\n\u001b[0;32m----> 4\u001b[0m \u001b[43menv\u001b[49m\u001b[38;5;241;43m.\u001b[39;49m\u001b[43mplay_game_with_bot\u001b[49m\u001b[43m(\u001b[49m\u001b[43m)\u001b[49m\n",
      "Cell \u001b[0;32mIn[1], line 80\u001b[0m, in \u001b[0;36mMyGameEnv.play_game_with_bot\u001b[0;34m(self)\u001b[0m\n\u001b[1;32m     78\u001b[0m \u001b[38;5;28;01massert\u001b[39;00m \u001b[38;5;28mself\u001b[39m\u001b[38;5;241m.\u001b[39mtrain_mode \u001b[38;5;241m==\u001b[39m \u001b[38;5;28;01mFalse\u001b[39;00m\n\u001b[1;32m     79\u001b[0m \u001b[38;5;28mself\u001b[39m\u001b[38;5;241m.\u001b[39mgame_setting()\n\u001b[0;32m---> 80\u001b[0m \u001b[38;5;28;43mself\u001b[39;49m\u001b[38;5;241;43m.\u001b[39;49m\u001b[43mgame\u001b[49m\u001b[38;5;241;43m.\u001b[39;49m\u001b[43mshow_start_screen\u001b[49m\u001b[43m(\u001b[49m\u001b[43m)\u001b[49m\n\u001b[1;32m     81\u001b[0m \u001b[38;5;28;01mwhile\u001b[39;00m \u001b[38;5;28mself\u001b[39m\u001b[38;5;241m.\u001b[39mgame\u001b[38;5;241m.\u001b[39mrunning:\n\u001b[1;32m     82\u001b[0m     \u001b[38;5;28mself\u001b[39m\u001b[38;5;241m.\u001b[39mgame\u001b[38;5;241m.\u001b[39mnew()\n",
      "File \u001b[0;32m~/Bug-detecter-in-game/Bounce_Pygame_fixed/main.py:233\u001b[0m, in \u001b[0;36mGame.show_start_screen\u001b[0;34m(self)\u001b[0m\n\u001b[1;32m    231\u001b[0m text\u001b[38;5;241m.\u001b[39mcreate_button()\n\u001b[1;32m    232\u001b[0m play \u001b[38;5;241m=\u001b[39m Button(\u001b[38;5;28mself\u001b[39m,\u001b[38;5;124m\"\u001b[39m\u001b[38;5;124mPLAY\u001b[39m\u001b[38;5;124m\"\u001b[39m,\u001b[38;5;241m170\u001b[39m,\u001b[38;5;241m200\u001b[39m,\u001b[38;5;241m120\u001b[39m,\u001b[38;5;241m50\u001b[39m,GREEN,DARK_GREEN,\u001b[38;5;241m20\u001b[39m,\u001b[38;5;28mself\u001b[39m\u001b[38;5;241m.\u001b[39mnew)\n\u001b[0;32m--> 233\u001b[0m \u001b[43mplay\u001b[49m\u001b[38;5;241;43m.\u001b[39;49m\u001b[43mcreate_button\u001b[49m\u001b[43m(\u001b[49m\u001b[43m)\u001b[49m\n\u001b[1;32m    234\u001b[0m instruction \u001b[38;5;241m=\u001b[39m Button(\u001b[38;5;28mself\u001b[39m,\u001b[38;5;124m'\u001b[39m\u001b[38;5;124mINSTRUCTIONS\u001b[39m\u001b[38;5;124m'\u001b[39m,\u001b[38;5;241m320\u001b[39m,\u001b[38;5;241m200\u001b[39m,\u001b[38;5;241m150\u001b[39m,\u001b[38;5;241m50\u001b[39m,BRIGHT_ORANGE,ORANGE,\u001b[38;5;241m20\u001b[39m,\u001b[38;5;28mself\u001b[39m\u001b[38;5;241m.\u001b[39mshow_instruction)\n\u001b[1;32m    235\u001b[0m instruction\u001b[38;5;241m.\u001b[39mcreate_button() \n",
      "File \u001b[0;32m~/Bug-detecter-in-game/Bounce_Pygame_fixed/buttons.py:23\u001b[0m, in \u001b[0;36mButton.create_button\u001b[0;34m(self)\u001b[0m\n\u001b[1;32m     21\u001b[0m     pg\u001b[38;5;241m.\u001b[39mdraw\u001b[38;5;241m.\u001b[39mrect(\u001b[38;5;28mself\u001b[39m\u001b[38;5;241m.\u001b[39mgame\u001b[38;5;241m.\u001b[39mdisplay_screen,\u001b[38;5;28mself\u001b[39m\u001b[38;5;241m.\u001b[39mactive_color,(\u001b[38;5;28mself\u001b[39m\u001b[38;5;241m.\u001b[39mx,\u001b[38;5;28mself\u001b[39m\u001b[38;5;241m.\u001b[39my,\u001b[38;5;28mself\u001b[39m\u001b[38;5;241m.\u001b[39mwidth,\u001b[38;5;28mself\u001b[39m\u001b[38;5;241m.\u001b[39mheight))\n\u001b[1;32m     22\u001b[0m     \u001b[38;5;28;01mif\u001b[39;00m click[\u001b[38;5;241m0\u001b[39m]\u001b[38;5;241m==\u001b[39m\u001b[38;5;241m1\u001b[39m \u001b[38;5;129;01mand\u001b[39;00m \u001b[38;5;28mself\u001b[39m\u001b[38;5;241m.\u001b[39maction\u001b[38;5;241m!=\u001b[39m\u001b[38;5;28;01mNone\u001b[39;00m:\n\u001b[0;32m---> 23\u001b[0m         \u001b[38;5;28;43mself\u001b[39;49m\u001b[38;5;241;43m.\u001b[39;49m\u001b[43maction\u001b[49m\u001b[43m(\u001b[49m\u001b[43m)\u001b[49m\n\u001b[1;32m     24\u001b[0m \u001b[38;5;28;01melse\u001b[39;00m:\n\u001b[1;32m     25\u001b[0m     pg\u001b[38;5;241m.\u001b[39mdraw\u001b[38;5;241m.\u001b[39mrect(\u001b[38;5;28mself\u001b[39m\u001b[38;5;241m.\u001b[39mgame\u001b[38;5;241m.\u001b[39mdisplay_screen,\u001b[38;5;28mself\u001b[39m\u001b[38;5;241m.\u001b[39minactive_color,(\u001b[38;5;28mself\u001b[39m\u001b[38;5;241m.\u001b[39mx,\u001b[38;5;28mself\u001b[39m\u001b[38;5;241m.\u001b[39my,\u001b[38;5;28mself\u001b[39m\u001b[38;5;241m.\u001b[39mwidth,\u001b[38;5;28mself\u001b[39m\u001b[38;5;241m.\u001b[39mheight))\n",
      "File \u001b[0;32m~/Bug-detecter-in-game/Bounce_Pygame_fixed/main.py:104\u001b[0m, in \u001b[0;36mGame.new\u001b[0;34m(self)\u001b[0m\n\u001b[1;32m    102\u001b[0m \u001b[38;5;28mself\u001b[39m\u001b[38;5;241m.\u001b[39mcamera \u001b[38;5;241m=\u001b[39m Camera(WIDTH\u001b[38;5;241m*\u001b[39m\u001b[38;5;241m6\u001b[39m,HEIGHT)\n\u001b[1;32m    103\u001b[0m \u001b[38;5;28;01mif\u001b[39;00m \u001b[38;5;129;01mnot\u001b[39;00m \u001b[38;5;28mself\u001b[39m\u001b[38;5;241m.\u001b[39mtrain_mode:\n\u001b[0;32m--> 104\u001b[0m     \u001b[38;5;28;43mself\u001b[39;49m\u001b[38;5;241;43m.\u001b[39;49m\u001b[43mrun\u001b[49m\u001b[43m(\u001b[49m\u001b[43m)\u001b[49m\n",
      "File \u001b[0;32m~/Bug-detecter-in-game/Bounce_Pygame_fixed/main.py:116\u001b[0m, in \u001b[0;36mGame.run\u001b[0;34m(self)\u001b[0m\n\u001b[1;32m    114\u001b[0m \u001b[38;5;28mself\u001b[39m\u001b[38;5;241m.\u001b[39mevents()\n\u001b[1;32m    115\u001b[0m \u001b[38;5;28mself\u001b[39m\u001b[38;5;241m.\u001b[39mupdate()\n\u001b[0;32m--> 116\u001b[0m \u001b[38;5;28;43mself\u001b[39;49m\u001b[38;5;241;43m.\u001b[39;49m\u001b[43mdraw\u001b[49m\u001b[43m(\u001b[49m\u001b[43m)\u001b[49m\n\u001b[1;32m    117\u001b[0m \u001b[38;5;28;01mif\u001b[39;00m \u001b[38;5;28mself\u001b[39m\u001b[38;5;241m.\u001b[39mball\u001b[38;5;241m.\u001b[39mpos\u001b[38;5;241m.\u001b[39mx\u001b[38;5;241m>\u001b[39m\u001b[38;5;241m2700\u001b[39m: \u001b[38;5;66;03m#original : 4660\u001b[39;00m\n\u001b[1;32m    118\u001b[0m     \u001b[38;5;28;01mif\u001b[39;00m \u001b[38;5;28mself\u001b[39m\u001b[38;5;241m.\u001b[39mlog_mode:\n",
      "File \u001b[0;32m~/Bug-detecter-in-game/Bounce_Pygame_fixed/main.py:218\u001b[0m, in \u001b[0;36mGame.draw\u001b[0;34m(self)\u001b[0m\n\u001b[1;32m    217\u001b[0m \u001b[38;5;28;01mdef\u001b[39;00m\u001b[38;5;250m \u001b[39m\u001b[38;5;21mdraw\u001b[39m(\u001b[38;5;28mself\u001b[39m):\n\u001b[0;32m--> 218\u001b[0m     \u001b[38;5;28;43mself\u001b[39;49m\u001b[38;5;241;43m.\u001b[39;49m\u001b[43mdisplay_screen\u001b[49m\u001b[38;5;241;43m.\u001b[39;49m\u001b[43mfill\u001b[49m\u001b[43m(\u001b[49m\u001b[43mBACKGROUND_COLOR\u001b[49m\u001b[43m)\u001b[49m\n\u001b[1;32m    219\u001b[0m     \u001b[38;5;28;01mfor\u001b[39;00m sprite \u001b[38;5;129;01min\u001b[39;00m \u001b[38;5;28mself\u001b[39m\u001b[38;5;241m.\u001b[39mall_sprites:\n\u001b[1;32m    220\u001b[0m         \u001b[38;5;28mself\u001b[39m\u001b[38;5;241m.\u001b[39mdisplay_screen\u001b[38;5;241m.\u001b[39mblit(sprite\u001b[38;5;241m.\u001b[39mimage, \u001b[38;5;28mself\u001b[39m\u001b[38;5;241m.\u001b[39mcamera\u001b[38;5;241m.\u001b[39mapply(sprite))\n",
      "\u001b[0;31merror\u001b[0m: display Surface quit"
     ]
    }
   ],
   "source": [
    "#모델 로드 및 실제 플레이 화면 도출.\n",
    "env = MyGameEnv(render_mode=True, log_mode=True, bug_mode=True, control_mode=\"bot\", train_mode=False)\n",
    "env.load_model(model_name = \"dqn_model_20250525_140415.zip\")\n",
    "env.play_game_with_bot()"
   ]
  }
 ],
 "metadata": {
  "kernelspec": {
   "display_name": "bug_detector",
   "language": "python",
   "name": "python3"
  },
  "language_info": {
   "codemirror_mode": {
    "name": "ipython",
    "version": 3
   },
   "file_extension": ".py",
   "mimetype": "text/x-python",
   "name": "python",
   "nbconvert_exporter": "python",
   "pygments_lexer": "ipython3",
   "version": "3.10.16"
  }
 },
 "nbformat": 4,
 "nbformat_minor": 2
}
