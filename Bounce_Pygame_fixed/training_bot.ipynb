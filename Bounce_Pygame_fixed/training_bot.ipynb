{
 "cells": [
  {
   "cell_type": "code",
   "execution_count": 1,
   "metadata": {},
   "outputs": [],
   "source": [
    "import gymnasium as gym\n",
    "from gymnasium import spaces\n",
    "import numpy as np\n",
    "from main import Game\n",
    "from stable_baselines3 import DQN\n",
    "from stable_baselines3.common.env_checker import check_env\n",
    "from datetime import datetime\n",
    "import os\n",
    "\n",
    "class MyGameEnv(gym.Env):\n",
    "    def __init__(self, render_mode=True, log_mode=False, bug_mode=False, control_mode=\"bot\", train_mode=False):\n",
    "        super().__init__()\n",
    "        self.render_mode = render_mode\n",
    "        self.log_mode = log_mode\n",
    "        self.bug_mode = bug_mode\n",
    "        self.control_mode = control_mode\n",
    "        self.train_mode = train_mode\n",
    "        self.model = None\n",
    "        self.game = Game(model= self.model, render_mode = self.render_mode, log_mode=self.log_mode, bug_mode=self.bug_mode, control_mode=self.control_mode, train_mode=self.train_mode)\n",
    "\n",
    "        self.action_space = spaces.Discrete(6)\n",
    "        self.observation_space = spaces.Box(\n",
    "            low=np.array([0.0, 0.0, -1.0, -1.0, 0.0], dtype=np.float32),\n",
    "            high=np.array([1.0, 1.0, 1.0, 1.0, 1.0], dtype=np.float32),\n",
    "            dtype=np.float32\n",
    "        )\n",
    "    def game_setting(self):\n",
    "        self.game = Game(model= self.model, render_mode = self.render_mode, log_mode=self.log_mode, bug_mode=self.bug_mode, control_mode=self.control_mode, train_mode=self.train_mode)\n",
    "\n",
    "    def reset(self, seed=None, options=None):\n",
    "        obs = self.game.reset()\n",
    "        return np.array(obs, dtype=np.float32), {}\n",
    "\n",
    "    def step(self, action):\n",
    "        obs, reward, done, info = self.game.step(action)\n",
    "\n",
    "        if done: # step마다 reward 기록용\n",
    "            print(f\"[EP DONE] obs: {obs}, reward: {reward}\")\n",
    "        return np.array(obs, dtype=np.float32), reward, done, False, info\n",
    "\n",
    "    def render(self):\n",
    "        if self.render_mode:\n",
    "            self.game.draw()\n",
    "\n",
    "    def close(self):\n",
    "        self.game.quitgame()\n",
    "\n",
    "    def train(self):\n",
    "        self.render_mode = False\n",
    "        self.log_mode = False\n",
    "        self.bug_mode = False\n",
    "        self.control_mode = \"bot\"\n",
    "        self.train_mode = True\n",
    "        self.game_setting()\n",
    "\n",
    "        # check_env(env, warn=True)  # 환경이 gym 스타일로 잘 되어 있는지 체크\n",
    "        timestamp = datetime.now().strftime(\"%Y%m%d_%H%M%S\")\n",
    "        model_name = f\"dqn_model_{timestamp}\"\n",
    "        model_name = os.path.join(\"./bot\", model_name)\n",
    "\n",
    "        model = DQN(\"MlpPolicy\", self, verbose=1, tensorboard_log=\"./dqn_logs\")\n",
    "        model.learn(total_timesteps=50000, tb_log_name=\"run_1\")\n",
    "        os.makedirs(\"./bot\", exist_ok=True)\n",
    "\n",
    "        model.save(model_name)\n",
    "        self.model = model\n",
    "        # self.close()\n",
    "\n",
    "    def check_env(self):\n",
    "        check_env(self)\n",
    "        # self.close()\n",
    "    def load_model(self, model_name):\n",
    "        self.model = DQN.load(os.path.join(\"./bot\", model_name))\n",
    "        \n",
    "    def play_game_with_bot(self):\n",
    "        assert self.game.control_mode == \"bot\"\n",
    "        assert self.model is not None\n",
    "\n",
    "        self.game.show_start_screen()\n",
    "        while self.game.running:\n",
    "            self.game.new()\n",
    "            # self.game.show_go_screen()\n",
    "        self.game.quitgame()\n"
   ]
  },
  {
   "cell_type": "code",
   "execution_count": 3,
   "metadata": {},
   "outputs": [],
   "source": [
    "env.close()"
   ]
  },
  {
   "cell_type": "code",
   "execution_count": null,
   "metadata": {},
   "outputs": [],
   "source": [
    "#env 설정 제대로 되었는지 확인.\n",
    "env = MyGameEnv()\n",
    "check_env(env)\n",
    "env.close()"
   ]
  },
  {
   "cell_type": "code",
   "execution_count": null,
   "metadata": {},
   "outputs": [],
   "source": [
    "#모델 훈련\n",
    "env = MyGameEnv()\n",
    "env.train()\n",
    "env.close()"
   ]
  },
  {
   "cell_type": "markdown",
   "metadata": {},
   "source": [
    "공이 안움직이는 것 같다... 문제를 해결해보자. 05/22/12:06. //\n",
    "step이 길어질수록 reward를 작게 하자. 벽에 걸려서 아예 움직이지 못하는 이슈가 있네요."
   ]
  },
  {
   "cell_type": "code",
   "execution_count": 2,
   "metadata": {},
   "outputs": [
    {
     "ename": "error",
     "evalue": "font not initialized",
     "output_type": "error",
     "traceback": [
      "\u001b[0;31m---------------------------------------------------------------------------\u001b[0m",
      "\u001b[0;31merror\u001b[0m                                     Traceback (most recent call last)",
      "Cell \u001b[0;32mIn[2], line 5\u001b[0m\n\u001b[1;32m      3\u001b[0m env\u001b[38;5;241m.\u001b[39mload_model(model_name \u001b[38;5;241m=\u001b[39m \u001b[38;5;124m\"\u001b[39m\u001b[38;5;124mdqn_model_20250525_140415.zip\u001b[39m\u001b[38;5;124m\"\u001b[39m)\n\u001b[1;32m      4\u001b[0m env\u001b[38;5;241m.\u001b[39mgame_setting()\n\u001b[0;32m----> 5\u001b[0m \u001b[43menv\u001b[49m\u001b[38;5;241;43m.\u001b[39;49m\u001b[43mplay_game_with_bot\u001b[49m\u001b[43m(\u001b[49m\u001b[43m)\u001b[49m\n",
      "Cell \u001b[0;32mIn[1], line 79\u001b[0m, in \u001b[0;36mMyGameEnv.play_game_with_bot\u001b[0;34m(self)\u001b[0m\n\u001b[1;32m     76\u001b[0m \u001b[38;5;28;01massert\u001b[39;00m \u001b[38;5;28mself\u001b[39m\u001b[38;5;241m.\u001b[39mgame\u001b[38;5;241m.\u001b[39mcontrol_mode \u001b[38;5;241m==\u001b[39m \u001b[38;5;124m\"\u001b[39m\u001b[38;5;124mbot\u001b[39m\u001b[38;5;124m\"\u001b[39m\n\u001b[1;32m     77\u001b[0m \u001b[38;5;28;01massert\u001b[39;00m \u001b[38;5;28mself\u001b[39m\u001b[38;5;241m.\u001b[39mmodel \u001b[38;5;129;01mis\u001b[39;00m \u001b[38;5;129;01mnot\u001b[39;00m \u001b[38;5;28;01mNone\u001b[39;00m\n\u001b[0;32m---> 79\u001b[0m \u001b[38;5;28;43mself\u001b[39;49m\u001b[38;5;241;43m.\u001b[39;49m\u001b[43mgame\u001b[49m\u001b[38;5;241;43m.\u001b[39;49m\u001b[43mshow_start_screen\u001b[49m\u001b[43m(\u001b[49m\u001b[43m)\u001b[49m\n\u001b[1;32m     80\u001b[0m \u001b[38;5;28;01mwhile\u001b[39;00m \u001b[38;5;28mself\u001b[39m\u001b[38;5;241m.\u001b[39mgame\u001b[38;5;241m.\u001b[39mrunning:\n\u001b[1;32m     81\u001b[0m     \u001b[38;5;28mself\u001b[39m\u001b[38;5;241m.\u001b[39mgame\u001b[38;5;241m.\u001b[39mnew()\n",
      "File \u001b[0;32m~/Bug-detecter-in-game/Bounce_Pygame_fixed/main.py:232\u001b[0m, in \u001b[0;36mGame.show_start_screen\u001b[0;34m(self)\u001b[0m\n\u001b[1;32m    230\u001b[0m play\u001b[38;5;241m.\u001b[39mcreate_button()\n\u001b[1;32m    231\u001b[0m instruction \u001b[38;5;241m=\u001b[39m Button(\u001b[38;5;28mself\u001b[39m,\u001b[38;5;124m'\u001b[39m\u001b[38;5;124mINSTRUCTIONS\u001b[39m\u001b[38;5;124m'\u001b[39m,\u001b[38;5;241m320\u001b[39m,\u001b[38;5;241m200\u001b[39m,\u001b[38;5;241m150\u001b[39m,\u001b[38;5;241m50\u001b[39m,BRIGHT_ORANGE,ORANGE,\u001b[38;5;241m20\u001b[39m,\u001b[38;5;28mself\u001b[39m\u001b[38;5;241m.\u001b[39mshow_instruction)\n\u001b[0;32m--> 232\u001b[0m \u001b[43minstruction\u001b[49m\u001b[38;5;241;43m.\u001b[39;49m\u001b[43mcreate_button\u001b[49m\u001b[43m(\u001b[49m\u001b[43m)\u001b[49m \n\u001b[1;32m    233\u001b[0m end \u001b[38;5;241m=\u001b[39m Button(\u001b[38;5;28mself\u001b[39m,\u001b[38;5;124m\"\u001b[39m\u001b[38;5;124mQUIT\u001b[39m\u001b[38;5;124m\"\u001b[39m,\u001b[38;5;241m500\u001b[39m,\u001b[38;5;241m200\u001b[39m,\u001b[38;5;241m120\u001b[39m,\u001b[38;5;241m50\u001b[39m,RED,BRICKRED,\u001b[38;5;241m20\u001b[39m,\u001b[38;5;28mself\u001b[39m\u001b[38;5;241m.\u001b[39mquitgame)\n\u001b[1;32m    234\u001b[0m end\u001b[38;5;241m.\u001b[39mcreate_button()\n",
      "File \u001b[0;32m~/Bug-detecter-in-game/Bounce_Pygame_fixed/buttons.py:23\u001b[0m, in \u001b[0;36mButton.create_button\u001b[0;34m(self)\u001b[0m\n\u001b[1;32m     21\u001b[0m     pg\u001b[38;5;241m.\u001b[39mdraw\u001b[38;5;241m.\u001b[39mrect(\u001b[38;5;28mself\u001b[39m\u001b[38;5;241m.\u001b[39mgame\u001b[38;5;241m.\u001b[39mdisplay_screen,\u001b[38;5;28mself\u001b[39m\u001b[38;5;241m.\u001b[39mactive_color,(\u001b[38;5;28mself\u001b[39m\u001b[38;5;241m.\u001b[39mx,\u001b[38;5;28mself\u001b[39m\u001b[38;5;241m.\u001b[39my,\u001b[38;5;28mself\u001b[39m\u001b[38;5;241m.\u001b[39mwidth,\u001b[38;5;28mself\u001b[39m\u001b[38;5;241m.\u001b[39mheight))\n\u001b[1;32m     22\u001b[0m     \u001b[38;5;28;01mif\u001b[39;00m click[\u001b[38;5;241m0\u001b[39m]\u001b[38;5;241m==\u001b[39m\u001b[38;5;241m1\u001b[39m \u001b[38;5;129;01mand\u001b[39;00m \u001b[38;5;28mself\u001b[39m\u001b[38;5;241m.\u001b[39maction\u001b[38;5;241m!=\u001b[39m\u001b[38;5;28;01mNone\u001b[39;00m:\n\u001b[0;32m---> 23\u001b[0m         \u001b[38;5;28;43mself\u001b[39;49m\u001b[38;5;241;43m.\u001b[39;49m\u001b[43maction\u001b[49m\u001b[43m(\u001b[49m\u001b[43m)\u001b[49m\n\u001b[1;32m     24\u001b[0m \u001b[38;5;28;01melse\u001b[39;00m:\n\u001b[1;32m     25\u001b[0m     pg\u001b[38;5;241m.\u001b[39mdraw\u001b[38;5;241m.\u001b[39mrect(\u001b[38;5;28mself\u001b[39m\u001b[38;5;241m.\u001b[39mgame\u001b[38;5;241m.\u001b[39mdisplay_screen,\u001b[38;5;28mself\u001b[39m\u001b[38;5;241m.\u001b[39minactive_color,(\u001b[38;5;28mself\u001b[39m\u001b[38;5;241m.\u001b[39mx,\u001b[38;5;28mself\u001b[39m\u001b[38;5;241m.\u001b[39my,\u001b[38;5;28mself\u001b[39m\u001b[38;5;241m.\u001b[39mwidth,\u001b[38;5;28mself\u001b[39m\u001b[38;5;241m.\u001b[39mheight))\n",
      "File \u001b[0;32m~/Bug-detecter-in-game/Bounce_Pygame_fixed/main.py:292\u001b[0m, in \u001b[0;36mGame.show_instruction\u001b[0;34m(self)\u001b[0m\n\u001b[1;32m    290\u001b[0m \u001b[38;5;28mself\u001b[39m\u001b[38;5;241m.\u001b[39mdisplay_screen\u001b[38;5;241m.\u001b[39mfill(BACKGROUND_COLOR)\n\u001b[1;32m    291\u001b[0m back \u001b[38;5;241m=\u001b[39m Button(\u001b[38;5;28mself\u001b[39m,\u001b[38;5;124m\"\u001b[39m\u001b[38;5;124mBACK\u001b[39m\u001b[38;5;124m\"\u001b[39m,\u001b[38;5;241m30\u001b[39m,\u001b[38;5;241m30\u001b[39m,\u001b[38;5;241m120\u001b[39m,\u001b[38;5;241m50\u001b[39m,GREEN,DARK_GREEN,\u001b[38;5;241m20\u001b[39m,\u001b[38;5;28mself\u001b[39m\u001b[38;5;241m.\u001b[39mshow_start_screen)\n\u001b[0;32m--> 292\u001b[0m \u001b[43mback\u001b[49m\u001b[38;5;241;43m.\u001b[39;49m\u001b[43mcreate_button\u001b[49m\u001b[43m(\u001b[49m\u001b[43m)\u001b[49m\n\u001b[1;32m    293\u001b[0m left \u001b[38;5;241m=\u001b[39m Button(\u001b[38;5;28mself\u001b[39m,\u001b[38;5;124m\"\u001b[39m\u001b[38;5;124mPress Left arrow key <- to move left\u001b[39m\u001b[38;5;124m\"\u001b[39m,\u001b[38;5;241m300\u001b[39m,\u001b[38;5;241m120\u001b[39m,\u001b[38;5;241m0\u001b[39m,\u001b[38;5;241m0\u001b[39m,BACKGROUND_COLOR,BACKGROUND_COLOR,\u001b[38;5;241m40\u001b[39m)\n\u001b[1;32m    294\u001b[0m left\u001b[38;5;241m.\u001b[39mcreate_button()\n",
      "File \u001b[0;32m~/Bug-detecter-in-game/Bounce_Pygame_fixed/buttons.py:23\u001b[0m, in \u001b[0;36mButton.create_button\u001b[0;34m(self)\u001b[0m\n\u001b[1;32m     21\u001b[0m     pg\u001b[38;5;241m.\u001b[39mdraw\u001b[38;5;241m.\u001b[39mrect(\u001b[38;5;28mself\u001b[39m\u001b[38;5;241m.\u001b[39mgame\u001b[38;5;241m.\u001b[39mdisplay_screen,\u001b[38;5;28mself\u001b[39m\u001b[38;5;241m.\u001b[39mactive_color,(\u001b[38;5;28mself\u001b[39m\u001b[38;5;241m.\u001b[39mx,\u001b[38;5;28mself\u001b[39m\u001b[38;5;241m.\u001b[39my,\u001b[38;5;28mself\u001b[39m\u001b[38;5;241m.\u001b[39mwidth,\u001b[38;5;28mself\u001b[39m\u001b[38;5;241m.\u001b[39mheight))\n\u001b[1;32m     22\u001b[0m     \u001b[38;5;28;01mif\u001b[39;00m click[\u001b[38;5;241m0\u001b[39m]\u001b[38;5;241m==\u001b[39m\u001b[38;5;241m1\u001b[39m \u001b[38;5;129;01mand\u001b[39;00m \u001b[38;5;28mself\u001b[39m\u001b[38;5;241m.\u001b[39maction\u001b[38;5;241m!=\u001b[39m\u001b[38;5;28;01mNone\u001b[39;00m:\n\u001b[0;32m---> 23\u001b[0m         \u001b[38;5;28;43mself\u001b[39;49m\u001b[38;5;241;43m.\u001b[39;49m\u001b[43maction\u001b[49m\u001b[43m(\u001b[49m\u001b[43m)\u001b[49m\n\u001b[1;32m     24\u001b[0m \u001b[38;5;28;01melse\u001b[39;00m:\n\u001b[1;32m     25\u001b[0m     pg\u001b[38;5;241m.\u001b[39mdraw\u001b[38;5;241m.\u001b[39mrect(\u001b[38;5;28mself\u001b[39m\u001b[38;5;241m.\u001b[39mgame\u001b[38;5;241m.\u001b[39mdisplay_screen,\u001b[38;5;28mself\u001b[39m\u001b[38;5;241m.\u001b[39minactive_color,(\u001b[38;5;28mself\u001b[39m\u001b[38;5;241m.\u001b[39mx,\u001b[38;5;28mself\u001b[39m\u001b[38;5;241m.\u001b[39my,\u001b[38;5;28mself\u001b[39m\u001b[38;5;241m.\u001b[39mwidth,\u001b[38;5;28mself\u001b[39m\u001b[38;5;241m.\u001b[39mheight))\n",
      "File \u001b[0;32m~/Bug-detecter-in-game/Bounce_Pygame_fixed/main.py:234\u001b[0m, in \u001b[0;36mGame.show_start_screen\u001b[0;34m(self)\u001b[0m\n\u001b[1;32m    232\u001b[0m instruction\u001b[38;5;241m.\u001b[39mcreate_button() \n\u001b[1;32m    233\u001b[0m end \u001b[38;5;241m=\u001b[39m Button(\u001b[38;5;28mself\u001b[39m,\u001b[38;5;124m\"\u001b[39m\u001b[38;5;124mQUIT\u001b[39m\u001b[38;5;124m\"\u001b[39m,\u001b[38;5;241m500\u001b[39m,\u001b[38;5;241m200\u001b[39m,\u001b[38;5;241m120\u001b[39m,\u001b[38;5;241m50\u001b[39m,RED,BRICKRED,\u001b[38;5;241m20\u001b[39m,\u001b[38;5;28mself\u001b[39m\u001b[38;5;241m.\u001b[39mquitgame)\n\u001b[0;32m--> 234\u001b[0m \u001b[43mend\u001b[49m\u001b[38;5;241;43m.\u001b[39;49m\u001b[43mcreate_button\u001b[49m\u001b[43m(\u001b[49m\u001b[43m)\u001b[49m\n\u001b[1;32m    235\u001b[0m \u001b[38;5;28;01mfor\u001b[39;00m event \u001b[38;5;129;01min\u001b[39;00m pg\u001b[38;5;241m.\u001b[39mevent\u001b[38;5;241m.\u001b[39mget():\n\u001b[1;32m    236\u001b[0m     \u001b[38;5;28;01mif\u001b[39;00m event\u001b[38;5;241m.\u001b[39mtype \u001b[38;5;241m==\u001b[39m pg\u001b[38;5;241m.\u001b[39mQUIT:\n",
      "File \u001b[0;32m~/Bug-detecter-in-game/Bounce_Pygame_fixed/buttons.py:27\u001b[0m, in \u001b[0;36mButton.create_button\u001b[0;34m(self)\u001b[0m\n\u001b[1;32m     24\u001b[0m \u001b[38;5;28;01melse\u001b[39;00m:\n\u001b[1;32m     25\u001b[0m     pg\u001b[38;5;241m.\u001b[39mdraw\u001b[38;5;241m.\u001b[39mrect(\u001b[38;5;28mself\u001b[39m\u001b[38;5;241m.\u001b[39mgame\u001b[38;5;241m.\u001b[39mdisplay_screen,\u001b[38;5;28mself\u001b[39m\u001b[38;5;241m.\u001b[39minactive_color,(\u001b[38;5;28mself\u001b[39m\u001b[38;5;241m.\u001b[39mx,\u001b[38;5;28mself\u001b[39m\u001b[38;5;241m.\u001b[39my,\u001b[38;5;28mself\u001b[39m\u001b[38;5;241m.\u001b[39mwidth,\u001b[38;5;28mself\u001b[39m\u001b[38;5;241m.\u001b[39mheight))\n\u001b[0;32m---> 27\u001b[0m smallText \u001b[38;5;241m=\u001b[39m \u001b[43mpg\u001b[49m\u001b[38;5;241;43m.\u001b[39;49m\u001b[43mfont\u001b[49m\u001b[38;5;241;43m.\u001b[39;49m\u001b[43mSysFont\u001b[49m\u001b[43m(\u001b[49m\u001b[38;5;124;43m'\u001b[39;49m\u001b[38;5;124;43mcomicsansms\u001b[39;49m\u001b[38;5;124;43m'\u001b[39;49m\u001b[43m,\u001b[49m\u001b[38;5;28;43mself\u001b[39;49m\u001b[38;5;241;43m.\u001b[39;49m\u001b[43mfont_size\u001b[49m\u001b[43m)\u001b[49m\n\u001b[1;32m     28\u001b[0m textSurf, textRect \u001b[38;5;241m=\u001b[39m \u001b[38;5;28mself\u001b[39m\u001b[38;5;241m.\u001b[39mtext_objects(smallText)\n\u001b[1;32m     29\u001b[0m textRect\u001b[38;5;241m.\u001b[39mcenter \u001b[38;5;241m=\u001b[39m ((\u001b[38;5;28mself\u001b[39m\u001b[38;5;241m.\u001b[39mx\u001b[38;5;241m+\u001b[39m(\u001b[38;5;28mself\u001b[39m\u001b[38;5;241m.\u001b[39mwidth\u001b[38;5;241m/\u001b[39m\u001b[38;5;241m2\u001b[39m)),(\u001b[38;5;28mself\u001b[39m\u001b[38;5;241m.\u001b[39my\u001b[38;5;241m+\u001b[39m(\u001b[38;5;28mself\u001b[39m\u001b[38;5;241m.\u001b[39mheight\u001b[38;5;241m/\u001b[39m\u001b[38;5;241m2\u001b[39m)))\n",
      "File \u001b[0;32m~/miniconda3/envs/bug_detector/lib/python3.10/site-packages/pygame/sysfont.py:460\u001b[0m, in \u001b[0;36mSysFont\u001b[0;34m(name, size, bold, italic, constructor)\u001b[0m\n\u001b[1;32m    457\u001b[0m \u001b[38;5;28;01mif\u001b[39;00m italic \u001b[38;5;129;01mand\u001b[39;00m \u001b[38;5;129;01mnot\u001b[39;00m gotitalic:\n\u001b[1;32m    458\u001b[0m     set_italic \u001b[38;5;241m=\u001b[39m \u001b[38;5;28;01mTrue\u001b[39;00m\n\u001b[0;32m--> 460\u001b[0m \u001b[38;5;28;01mreturn\u001b[39;00m \u001b[43mconstructor\u001b[49m\u001b[43m(\u001b[49m\u001b[43mfontname\u001b[49m\u001b[43m,\u001b[49m\u001b[43m \u001b[49m\u001b[43msize\u001b[49m\u001b[43m,\u001b[49m\u001b[43m \u001b[49m\u001b[43mset_bold\u001b[49m\u001b[43m,\u001b[49m\u001b[43m \u001b[49m\u001b[43mset_italic\u001b[49m\u001b[43m)\u001b[49m\n",
      "File \u001b[0;32m~/miniconda3/envs/bug_detector/lib/python3.10/site-packages/pygame/sysfont.py:378\u001b[0m, in \u001b[0;36mfont_constructor\u001b[0;34m(fontpath, size, bold, italic)\u001b[0m\n\u001b[1;32m    366\u001b[0m \u001b[38;5;28;01mdef\u001b[39;00m\u001b[38;5;250m \u001b[39m\u001b[38;5;21mfont_constructor\u001b[39m(fontpath, size, bold, italic):\n\u001b[1;32m    367\u001b[0m \u001b[38;5;250m    \u001b[39m\u001b[38;5;124;03m\"\"\"\u001b[39;00m\n\u001b[1;32m    368\u001b[0m \u001b[38;5;124;03m    pygame.font specific declarations\u001b[39;00m\n\u001b[1;32m    369\u001b[0m \n\u001b[0;32m   (...)\u001b[0m\n\u001b[1;32m    375\u001b[0m \u001b[38;5;124;03m    :return: A font.Font object.\u001b[39;00m\n\u001b[1;32m    376\u001b[0m \u001b[38;5;124;03m    \"\"\"\u001b[39;00m\n\u001b[0;32m--> 378\u001b[0m     font \u001b[38;5;241m=\u001b[39m \u001b[43mFont\u001b[49m\u001b[43m(\u001b[49m\u001b[43mfontpath\u001b[49m\u001b[43m,\u001b[49m\u001b[43m \u001b[49m\u001b[43msize\u001b[49m\u001b[43m)\u001b[49m\n\u001b[1;32m    379\u001b[0m     \u001b[38;5;28;01mif\u001b[39;00m bold:\n\u001b[1;32m    380\u001b[0m         font\u001b[38;5;241m.\u001b[39mset_bold(\u001b[38;5;28;01mTrue\u001b[39;00m)\n",
      "\u001b[0;31merror\u001b[0m: font not initialized"
     ]
    }
   ],
   "source": [
    "#모델 로드 및 실제 플레이 화면 도출.\n",
    "env = MyGameEnv(render_mode=True, log_mode=False, bug_mode=False, control_mode=\"bot\", train_mode=False)\n",
    "env.load_model(model_name = \"dqn_model_20250525_140415.zip\")\n",
    "env.game_setting()\n",
    "env.play_game_with_bot()"
   ]
  }
 ],
 "metadata": {
  "kernelspec": {
   "display_name": "bug_detector",
   "language": "python",
   "name": "python3"
  },
  "language_info": {
   "codemirror_mode": {
    "name": "ipython",
    "version": 3
   },
   "file_extension": ".py",
   "mimetype": "text/x-python",
   "name": "python",
   "nbconvert_exporter": "python",
   "pygments_lexer": "ipython3",
   "version": "3.10.16"
  }
 },
 "nbformat": 4,
 "nbformat_minor": 2
}
